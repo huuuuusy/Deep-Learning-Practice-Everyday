{
 "metadata": {
  "language_info": {
   "codemirror_mode": {
    "name": "ipython",
    "version": 3
   },
   "file_extension": ".py",
   "mimetype": "text/x-python",
   "name": "python",
   "nbconvert_exporter": "python",
   "pygments_lexer": "ipython3",
   "version": "3.7.9-final"
  },
  "orig_nbformat": 2,
  "kernelspec": {
   "name": "python3",
   "display_name": "Python 3.7.9 64-bit ('dl': conda)",
   "metadata": {
    "interpreter": {
     "hash": "04555e28157a9569ed15e47b421d44e061b20998244f032aa8114aee7bec1a7a"
    }
   }
  }
 },
 "nbformat": 4,
 "nbformat_minor": 2,
 "cells": [
  {
   "source": [
    "# 01-1 创建tensor\n",
    "创建tensor的几种方式：\n",
    "- 直接创建\n",
    "- 依据数值创建\n",
    "- 依概率分布创建"
   ],
   "cell_type": "markdown",
   "metadata": {}
  },
  {
   "cell_type": "code",
   "execution_count": 1,
   "metadata": {},
   "outputs": [
    {
     "output_type": "execute_result",
     "data": {
      "text/plain": [
       "<torch._C.Generator at 0x7f36e0087830>"
      ]
     },
     "metadata": {},
     "execution_count": 1
    }
   ],
   "source": [
    "import torch\n",
    "import numpy as np\n",
    "torch.manual_seed(1)"
   ]
  },
  {
   "source": [
    "通过torch.tensor创建张量"
   ],
   "cell_type": "markdown",
   "metadata": {}
  },
  {
   "cell_type": "code",
   "execution_count": 2,
   "metadata": {},
   "outputs": [
    {
     "output_type": "stream",
     "name": "stdout",
     "text": [
      "ndarray的数据类型： float64\n",
      "tensor([[1., 1., 1.],\n",
      "        [1., 1., 1.],\n",
      "        [1., 1., 1.]], device='cuda:0', dtype=torch.float64)\n"
     ]
    }
   ],
   "source": [
    "arr = np.ones((3, 3))\n",
    "print(\"ndarray的数据类型：\", arr.dtype)\n",
    "\n",
    "t = torch.tensor(arr, device='cuda')\n",
    "# t = torch.tensor(arr)\n",
    "\n",
    "print(t)"
   ]
  },
  {
   "source": [
    "通过torch.from_numpy创建张量"
   ],
   "cell_type": "markdown",
   "metadata": {}
  },
  {
   "cell_type": "code",
   "execution_count": 3,
   "metadata": {},
   "outputs": [
    {
     "output_type": "stream",
     "name": "stdout",
     "text": [
      "numpy array:  [[1 2 3]\n [4 5 6]]\ntensor :  tensor([[1, 2, 3],\n        [4, 5, 6]])\n\n修改arr\nnumpy array:  [[0 2 3]\n [4 5 6]]\ntensor :  tensor([[0, 2, 3],\n        [4, 5, 6]])\n\n修改tensor\nnumpy array:  [[-1  2  3]\n [ 4  5  6]]\ntensor :  tensor([[-1,  2,  3],\n        [ 4,  5,  6]])\n"
     ]
    }
   ],
   "source": [
    "# 共用内存\n",
    "arr = np.array([[1, 2, 3], [4, 5, 6]])\n",
    "t = torch.from_numpy(arr)\n",
    "print(\"numpy array: \", arr)\n",
    "print(\"tensor : \", t)\n",
    "\n",
    "print(\"\\n修改arr\")\n",
    "arr[0, 0] = 0\n",
    "print(\"numpy array: \", arr)\n",
    "print(\"tensor : \", t)\n",
    "\n",
    "print(\"\\n修改tensor\")\n",
    "t[0, 0] = -1\n",
    "print(\"numpy array: \", arr)\n",
    "print(\"tensor : \", t)"
   ]
  },
  {
   "source": [
    "通过torch.zeros创建张量"
   ],
   "cell_type": "markdown",
   "metadata": {}
  },
  {
   "cell_type": "code",
   "execution_count": 4,
   "metadata": {},
   "outputs": [
    {
     "output_type": "stream",
     "name": "stdout",
     "text": [
      "tensor([[0, 0, 0],\n        [0, 0, 0],\n        [0, 0, 0]]) \n tensor([[0, 0, 0],\n        [0, 0, 0],\n        [0, 0, 0]])\n139872128498416 139872128498416 True\n"
     ]
    }
   ],
   "source": [
    "out_t = torch.tensor([1])\n",
    "\n",
    "t = torch.zeros((3, 3), out=out_t)\n",
    "\n",
    "print(t, '\\n', out_t)\n",
    "print(id(t), id(out_t), id(t) == id(out_t))"
   ]
  },
  {
   "source": [
    "通过torch.full创建全1张量"
   ],
   "cell_type": "markdown",
   "metadata": {}
  },
  {
   "cell_type": "code",
   "execution_count": 5,
   "metadata": {},
   "outputs": [
    {
     "output_type": "stream",
     "name": "stdout",
     "text": [
      "tensor([[1., 1., 1.],\n        [1., 1., 1.],\n        [1., 1., 1.]])\n"
     ]
    }
   ],
   "source": [
    "t = torch.full((3, 3), 1)\n",
    "print(t)"
   ]
  },
  {
   "source": [
    "通过torch.arange创建等差数列张量"
   ],
   "cell_type": "markdown",
   "metadata": {}
  },
  {
   "cell_type": "code",
   "execution_count": 6,
   "metadata": {},
   "outputs": [
    {
     "output_type": "stream",
     "name": "stdout",
     "text": [
      "tensor([2, 4, 6, 8])\n"
     ]
    }
   ],
   "source": [
    "t = torch.arange(2, 10, 2)\n",
    "print(t)"
   ]
  },
  {
   "source": [
    "通过torch.linspace创建均分数列张量"
   ],
   "cell_type": "markdown",
   "metadata": {}
  },
  {
   "cell_type": "code",
   "execution_count": 7,
   "metadata": {},
   "outputs": [
    {
     "output_type": "stream",
     "name": "stdout",
     "text": [
      "tensor([ 2.,  4.,  6.,  8., 10.])\n",
      "tensor([ 2.0000,  3.6000,  5.2000,  6.8000,  8.4000, 10.0000])\n"
     ]
    }
   ],
   "source": [
    "t = torch.linspace(2, 10, 5)\n",
    "print(t)\n",
    "\n",
    "t = torch.linspace(2, 10, 6)\n",
    "print(t)"
   ]
  },
  {
   "source": [
    "通过torch.normal创建正态分布张量"
   ],
   "cell_type": "markdown",
   "metadata": {}
  },
  {
   "cell_type": "code",
   "execution_count": 8,
   "metadata": {},
   "outputs": [
    {
     "output_type": "stream",
     "name": "stdout",
     "text": [
      "mean:tensor([1., 2., 3., 4.])\nstd:tensor([1., 2., 3., 4.])\ntensor([1.6614, 2.5338, 3.1850, 6.4853])\ntensor([-0.4519, -0.1661, -1.5228,  0.3817])\nmean:tensor([1., 2., 3., 4.])\nstd:1\ntensor([-0.0276,  1.4369,  2.1077,  3.9417])\n"
     ]
    }
   ],
   "source": [
    "# mean：张量 std: 张量\n",
    "mean = torch.arange(1, 5, dtype=torch.float)\n",
    "std = torch.arange(1, 5, dtype=torch.float)\n",
    "t_normal = torch.normal(mean, std)\n",
    "print(\"mean:{}\\nstd:{}\".format(mean, std))\n",
    "print(t_normal)\n",
    "\n",
    "# mean：标量 std: 标量\n",
    "t_normal = torch.normal(0., 1., size=(4,))\n",
    "print(t_normal)\n",
    "\n",
    "# mean：张量 std: 标量\n",
    "mean = torch.arange(1, 5, dtype=torch.float)\n",
    "std = 1\n",
    "t_normal = torch.normal(mean, std)\n",
    "print(\"mean:{}\\nstd:{}\".format(mean, std))\n",
    "print(t_normal)"
   ]
  }
 ]
}